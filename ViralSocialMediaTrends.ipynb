{
 "cells": [
  {
   "cell_type": "code",
   "execution_count": 1,
   "id": "c09689ed-969d-4080-b9c2-c94d6ac3a007",
   "metadata": {},
   "outputs": [],
   "source": [
    "import pandas as pd\n",
    "import numpy as np\n",
    "import matplotlib.pyplot as plt\n",
    "import seaborn as sns"
   ]
  },
  {
   "cell_type": "code",
   "execution_count": 2,
   "id": "91c41caf",
   "metadata": {},
   "outputs": [],
   "source": [
    "df =pd.read_csv('C:/Users/lenovo/Desktop/SpecialTopicsProject/dataset/Viral_Social_Media_Trends.csv')"
   ]
  },
  {
   "cell_type": "code",
   "execution_count": 3,
   "id": "b4ed5315",
   "metadata": {},
   "outputs": [
    {
     "name": "stdout",
     "output_type": "stream",
     "text": [
      "<class 'pandas.core.frame.DataFrame'>\n",
      "RangeIndex: 5000 entries, 0 to 4999\n",
      "Data columns (total 5 columns):\n",
      " #   Column            Non-Null Count  Dtype\n",
      "---  ------            --------------  -----\n",
      " 0   Unnamed: 0        5000 non-null   int64\n",
      " 1   Platform          5000 non-null   int64\n",
      " 2   Hashtag           5000 non-null   int64\n",
      " 3   Region            5000 non-null   int64\n",
      " 4   Engagement_Level  5000 non-null   int64\n",
      "dtypes: int64(5)\n",
      "memory usage: 195.4 KB\n"
     ]
    }
   ],
   "source": [
    "df.info()"
   ]
  },
  {
   "cell_type": "code",
   "execution_count": 4,
   "id": "f8c582cc",
   "metadata": {},
   "outputs": [
    {
     "data": {
      "text/plain": [
       "(5000, 5)"
      ]
     },
     "execution_count": 4,
     "metadata": {},
     "output_type": "execute_result"
    }
   ],
   "source": [
    "df.shape"
   ]
  },
  {
   "cell_type": "code",
   "execution_count": 5,
   "id": "b67d0844",
   "metadata": {},
   "outputs": [
    {
     "data": {
      "text/html": [
       "<div>\n",
       "<style scoped>\n",
       "    .dataframe tbody tr th:only-of-type {\n",
       "        vertical-align: middle;\n",
       "    }\n",
       "\n",
       "    .dataframe tbody tr th {\n",
       "        vertical-align: top;\n",
       "    }\n",
       "\n",
       "    .dataframe thead th {\n",
       "        text-align: right;\n",
       "    }\n",
       "</style>\n",
       "<table border=\"1\" class=\"dataframe\">\n",
       "  <thead>\n",
       "    <tr style=\"text-align: right;\">\n",
       "      <th></th>\n",
       "      <th>Unnamed: 0</th>\n",
       "      <th>Platform</th>\n",
       "      <th>Hashtag</th>\n",
       "      <th>Region</th>\n",
       "      <th>Engagement_Level</th>\n",
       "    </tr>\n",
       "  </thead>\n",
       "  <tbody>\n",
       "    <tr>\n",
       "      <th>count</th>\n",
       "      <td>5000.000000</td>\n",
       "      <td>5000.000000</td>\n",
       "      <td>5000.000000</td>\n",
       "      <td>5000.000000</td>\n",
       "      <td>5000.00000</td>\n",
       "    </tr>\n",
       "    <tr>\n",
       "      <th>mean</th>\n",
       "      <td>2499.500000</td>\n",
       "      <td>2.494400</td>\n",
       "      <td>5.456400</td>\n",
       "      <td>4.441800</td>\n",
       "      <td>2.01120</td>\n",
       "    </tr>\n",
       "    <tr>\n",
       "      <th>std</th>\n",
       "      <td>1443.520003</td>\n",
       "      <td>1.111673</td>\n",
       "      <td>2.860163</td>\n",
       "      <td>2.276499</td>\n",
       "      <td>0.82487</td>\n",
       "    </tr>\n",
       "    <tr>\n",
       "      <th>min</th>\n",
       "      <td>0.000000</td>\n",
       "      <td>1.000000</td>\n",
       "      <td>1.000000</td>\n",
       "      <td>1.000000</td>\n",
       "      <td>1.00000</td>\n",
       "    </tr>\n",
       "    <tr>\n",
       "      <th>25%</th>\n",
       "      <td>1249.750000</td>\n",
       "      <td>1.000000</td>\n",
       "      <td>3.000000</td>\n",
       "      <td>3.000000</td>\n",
       "      <td>1.00000</td>\n",
       "    </tr>\n",
       "    <tr>\n",
       "      <th>50%</th>\n",
       "      <td>2499.500000</td>\n",
       "      <td>3.000000</td>\n",
       "      <td>5.000000</td>\n",
       "      <td>4.000000</td>\n",
       "      <td>2.00000</td>\n",
       "    </tr>\n",
       "    <tr>\n",
       "      <th>75%</th>\n",
       "      <td>3749.250000</td>\n",
       "      <td>3.000000</td>\n",
       "      <td>8.000000</td>\n",
       "      <td>6.000000</td>\n",
       "      <td>3.00000</td>\n",
       "    </tr>\n",
       "    <tr>\n",
       "      <th>max</th>\n",
       "      <td>4999.000000</td>\n",
       "      <td>4.000000</td>\n",
       "      <td>10.000000</td>\n",
       "      <td>8.000000</td>\n",
       "      <td>3.00000</td>\n",
       "    </tr>\n",
       "  </tbody>\n",
       "</table>\n",
       "</div>"
      ],
      "text/plain": [
       "        Unnamed: 0     Platform      Hashtag       Region  Engagement_Level\n",
       "count  5000.000000  5000.000000  5000.000000  5000.000000        5000.00000\n",
       "mean   2499.500000     2.494400     5.456400     4.441800           2.01120\n",
       "std    1443.520003     1.111673     2.860163     2.276499           0.82487\n",
       "min       0.000000     1.000000     1.000000     1.000000           1.00000\n",
       "25%    1249.750000     1.000000     3.000000     3.000000           1.00000\n",
       "50%    2499.500000     3.000000     5.000000     4.000000           2.00000\n",
       "75%    3749.250000     3.000000     8.000000     6.000000           3.00000\n",
       "max    4999.000000     4.000000    10.000000     8.000000           3.00000"
      ]
     },
     "execution_count": 5,
     "metadata": {},
     "output_type": "execute_result"
    }
   ],
   "source": [
    "df.describe()"
   ]
  },
  {
   "cell_type": "code",
   "execution_count": 6,
   "id": "f5ae33b3",
   "metadata": {},
   "outputs": [
    {
     "data": {
      "text/plain": [
       "Unnamed: 0          0\n",
       "Platform            0\n",
       "Hashtag             0\n",
       "Region              0\n",
       "Engagement_Level    0\n",
       "dtype: int64"
      ]
     },
     "execution_count": 6,
     "metadata": {},
     "output_type": "execute_result"
    }
   ],
   "source": [
    "df.isnull().sum()"
   ]
  },
  {
   "cell_type": "code",
   "execution_count": 7,
   "id": "0217608d",
   "metadata": {},
   "outputs": [
    {
     "name": "stdout",
     "output_type": "stream",
     "text": [
      "      Unnamed: 0  Platform  Hashtag  Region  Engagement_Level\n",
      "0              0         1        1       1                 1\n",
      "1              1         2        4       8                 2\n",
      "2              2         4        1       5                 2\n",
      "3              3         3        4       6                 3\n",
      "4              4         1        3       5                 2\n",
      "...          ...       ...      ...     ...               ...\n",
      "4995        4995         3        4       2                 1\n",
      "4996        4996         2        4       1                 2\n",
      "4997        4997         3        5       3                 3\n",
      "4998        4998         2        7       4                 3\n",
      "4999        4999         2        5       2                 3\n",
      "\n",
      "[5000 rows x 5 columns]\n"
     ]
    }
   ],
   "source": [
    "print(df)"
   ]
  },
  {
   "cell_type": "code",
   "execution_count": 8,
   "id": "95946b61",
   "metadata": {},
   "outputs": [],
   "source": [
    "df_encoded = pd.get_dummies(df, columns=['Platform', 'Hashtag', 'Region'])"
   ]
  },
  {
   "cell_type": "code",
   "execution_count": 9,
   "id": "cbc06f3d",
   "metadata": {},
   "outputs": [],
   "source": [
    "X = df_encoded.drop('Engagement_Level', axis=1)\n",
    "y = df_encoded['Engagement_Level']"
   ]
  },
  {
   "cell_type": "code",
   "execution_count": 9,
   "id": "5ce79cc7",
   "metadata": {},
   "outputs": [],
   "source": [
    "df=df.drop(['Post_ID','Content_Type','Views','Likes','Shares','Comments'],axis=1)"
   ]
  },
  {
   "cell_type": "code",
   "execution_count": 10,
   "id": "0991e9bd",
   "metadata": {},
   "outputs": [
    {
     "name": "stdout",
     "output_type": "stream",
     "text": [
      "      Unnamed: 0  Platform  Hashtag  Region  Engagement_Level\n",
      "0              0         1        1       1                 1\n",
      "1              1         2        4       8                 2\n",
      "2              2         4        1       5                 2\n",
      "3              3         3        4       6                 3\n",
      "4              4         1        3       5                 2\n",
      "...          ...       ...      ...     ...               ...\n",
      "4995        4995         3        4       2                 1\n",
      "4996        4996         2        4       1                 2\n",
      "4997        4997         3        5       3                 3\n",
      "4998        4998         2        7       4                 3\n",
      "4999        4999         2        5       2                 3\n",
      "\n",
      "[5000 rows x 5 columns]\n"
     ]
    }
   ],
   "source": [
    "print(df)"
   ]
  },
  {
   "cell_type": "code",
   "execution_count": 11,
   "id": "acf9572f",
   "metadata": {},
   "outputs": [],
   "source": [
    "#Mapping categorical string value to numerical code\n",
    "#converting 'Platform' to numbers:TikTok=1,Instagram=2,YouTube=3,Twitter=4\n",
    "df['Platform']=df['Platform'].map({'TikTok':1,'Instagram':2,'YouTube':3,'Twitter':4})"
   ]
  },
  {
   "cell_type": "code",
   "execution_count": 12,
   "id": "716f86e0",
   "metadata": {},
   "outputs": [
    {
     "name": "stdout",
     "output_type": "stream",
     "text": [
      "      Platform     Hashtag     Region Engagement_Level\n",
      "0            1  #Challenge         UK             High\n",
      "1            2  #Education      India           Medium\n",
      "2            4  #Challenge     Brazil           Medium\n",
      "3            3  #Education  Australia              Low\n",
      "4            1      #Dance     Brazil           Medium\n",
      "...        ...         ...        ...              ...\n",
      "4995         3  #Education      Japan             High\n",
      "4996         2  #Education         UK           Medium\n",
      "4997         3    #Fashion        USA              Low\n",
      "4998         2     #Gaming     Canada              Low\n",
      "4999         2    #Fashion      Japan              Low\n",
      "\n",
      "[5000 rows x 4 columns]\n"
     ]
    }
   ],
   "source": [
    "print(df)"
   ]
  },
  {
   "cell_type": "code",
   "execution_count": 13,
   "id": "456038bb",
   "metadata": {},
   "outputs": [],
   "source": [
    "#Engagement_Level:High=1,Medium=2,Low=3\n",
    "#Region: UK=1,Japan=2,USA=3,Canada=4,Brazil=5,Australia=6,Germany=7,India=8\n",
    "df['Engagement_Level']=df['Engagement_Level'].map({'High':1,'Medium':2,'Low':3})\n",
    "df['Region']=df['Region'].map({'UK':1,'Japan':2,'USA':3,'Canada':4,'Brazil':5,'Australia':6,'Germany':7,'India':8})"
   ]
  },
  {
   "cell_type": "code",
   "execution_count": 14,
   "id": "2dd441e1",
   "metadata": {},
   "outputs": [
    {
     "name": "stdout",
     "output_type": "stream",
     "text": [
      "      Platform     Hashtag  Region  Engagement_Level\n",
      "0            1  #Challenge       1                 1\n",
      "1            2  #Education       8                 2\n",
      "2            4  #Challenge       5                 2\n",
      "3            3  #Education       6                 3\n",
      "4            1      #Dance       5                 2\n",
      "...        ...         ...     ...               ...\n",
      "4995         3  #Education       2                 1\n",
      "4996         2  #Education       1                 2\n",
      "4997         3    #Fashion       3                 3\n",
      "4998         2     #Gaming       4                 3\n",
      "4999         2    #Fashion       2                 3\n",
      "\n",
      "[5000 rows x 4 columns]\n"
     ]
    }
   ],
   "source": [
    "print(df)"
   ]
  },
  {
   "cell_type": "code",
   "execution_count": 15,
   "id": "3f296223",
   "metadata": {},
   "outputs": [],
   "source": [
    "#Hashtag:#Challenge:1,#Comedy:2,#Dance:3,#Education:4,#Fashion:5,#Fitness:6,#Gaming:7,#Music:8,#Tech:9,#Viral:10\n",
    "df['Hashtag'] =df['Hashtag'].map({'#Challenge':1,'#Comedy':2,'#Dance':3,'#Education':4,'#Fashion':5,'#Fitness':6,'#Gaming':7,'#Music':8,'#Tech':9,'#Viral':10})"
   ]
  },
  {
   "cell_type": "code",
   "execution_count": 16,
   "id": "591be401",
   "metadata": {},
   "outputs": [
    {
     "name": "stdout",
     "output_type": "stream",
     "text": [
      "      Platform  Hashtag  Region  Engagement_Level\n",
      "0            1        1       1                 1\n",
      "1            2        4       8                 2\n",
      "2            4        1       5                 2\n",
      "3            3        4       6                 3\n",
      "4            1        3       5                 2\n",
      "...        ...      ...     ...               ...\n",
      "4995         3        4       2                 1\n",
      "4996         2        4       1                 2\n",
      "4997         3        5       3                 3\n",
      "4998         2        7       4                 3\n",
      "4999         2        5       2                 3\n",
      "\n",
      "[5000 rows x 4 columns]\n"
     ]
    }
   ],
   "source": [
    "print(df)"
   ]
  },
  {
   "cell_type": "code",
   "execution_count": 11,
   "id": "07a654eb",
   "metadata": {},
   "outputs": [],
   "source": [
    "df.to_csv('C:/Users/lenovo/Desktop/SpecialTopicsProject/dataset/Viral_Social_Media_Trends.csv')"
   ]
  }
 ],
 "metadata": {
  "kernelspec": {
   "display_name": "Python 3",
   "language": "python",
   "name": "python3"
  },
  "language_info": {
   "codemirror_mode": {
    "name": "ipython",
    "version": 3
   },
   "file_extension": ".py",
   "mimetype": "text/x-python",
   "name": "python",
   "nbconvert_exporter": "python",
   "pygments_lexer": "ipython3",
   "version": "3.13.3"
  }
 },
 "nbformat": 4,
 "nbformat_minor": 5
}
